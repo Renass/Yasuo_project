{
  "nbformat": 4,
  "nbformat_minor": 0,
  "metadata": {
    "colab": {
      "name": "classify.ipynb",
      "provenance": [],
      "toc_visible": true,
      "mount_file_id": "https://github.com/Renass/Yasuo_project/blob/develop/classification/classify.ipynb",
      "authorship_tag": "ABX9TyOl6bq/X/ZzjDrtGAEsUhYj"
    },
    "kernelspec": {
      "name": "python3",
      "display_name": "Python 3"
    },
    "language_info": {
      "name": "python"
    }
  },
  "cells": [
    {
      "cell_type": "code",
      "metadata": {
        "id": "4xJFWtHKvAOd"
      },
      "source": [
        "import os\n",
        "from google.colab import files\n",
        "import torchvision\n",
        "import glob\n",
        "from torchvision import transforms\n",
        "import numpy as np\n",
        "import torch"
      ],
      "execution_count": 29,
      "outputs": []
    },
    {
      "cell_type": "markdown",
      "metadata": {
        "id": "xvO1-QGRu5Up"
      },
      "source": [
        "#Batch preparing"
      ]
    },
    {
      "cell_type": "code",
      "metadata": {
        "id": "9FRrlyXgXK90",
        "outputId": "673f9149-68a1-4402-de68-52014aaa3408",
        "colab": {
          "base_uri": "https://localhost:8080/"
        }
      },
      "source": [
        "from google.colab import drive\n",
        "drive.mount('/content/drive')"
      ],
      "execution_count": 1,
      "outputs": [
        {
          "output_type": "stream",
          "text": [
            "Mounted at /content/drive\n"
          ],
          "name": "stdout"
        }
      ]
    },
    {
      "cell_type": "code",
      "metadata": {
        "id": "vVyYUm-Ou8sl"
      },
      "source": [
        "path = '/content/drive/MyDrive/Colab_Notebooks/datasets/stm-data'\n",
        "train_bad_dir = path + '/train/bad'\n",
        "train_good_dir = path + '/train/good'\n",
        "test_bad_dir = path + '/test/bad'\n",
        "test_good_dir = path + '/test/good'\n",
        "\n",
        "train_bad_names = glob.glob(train_bad_dir + '/*.npy')\n",
        "train_good_names = glob.glob(train_good_dir + '/*.npy')\n",
        "test_bad_names = glob.glob(test_bad_dir + '/*.npy')\n",
        "test_good_names = glob.glob(test_good_dir + '/*.npy')\n",
        "\n",
        "\n",
        "\n",
        "\n",
        "#train_dataset = torchvision.datasets.ImageFolder(train_dir,transform = transform )\n",
        "#test_dataset = torchvision.datasets.ImageFolder(test_dir)"
      ],
      "execution_count": 22,
      "outputs": []
    },
    {
      "cell_type": "code",
      "metadata": {
        "id": "x8dgAarXsy4u"
      },
      "source": [
        "class MyDataset(torch.utils.data.Dataset):\n",
        "    def __init__(self, names, y, transform = None):\n",
        "        self.names = names\n",
        "        self.y = y\n",
        "        if transform is None:\n",
        "            self.should_transform = False\n",
        "        else:\n",
        "            self.transform = transform\n",
        "            self.should_transform = True\n",
        "\n",
        "    def __len__(self):\n",
        "        return len(self.names)\n",
        "\n",
        "    def __getitem__(self,idx):\n",
        "        mas = np.load(self.names[idx])\n",
        "        if self.should_transform:\n",
        "            mas_transformed = self.transform(mas)\n",
        "        else:\n",
        "            mas_transformed = mas\n",
        "        return mas_transformed, self.y"
      ],
      "execution_count": 44,
      "outputs": []
    },
    {
      "cell_type": "code",
      "metadata": {
        "id": "92ivC0Ahv_bN"
      },
      "source": [
        "transform = torchvision.transforms.Compose([                                    \n",
        "    transforms.ToTensor()                                       \n",
        "    ])\n",
        "\n",
        "train_bad_dataset = MyDataset(names=train_bad_names, y='bad', transform=transform)"
      ],
      "execution_count": 45,
      "outputs": []
    },
    {
      "cell_type": "code",
      "metadata": {
        "id": "mVOAObTr0sTt",
        "outputId": "b2a8c178-4c77-4e56-cb30-aa9b89a30cc2",
        "colab": {
          "base_uri": "https://localhost:8080/"
        }
      },
      "source": [
        "train_bad_dataset[1]"
      ],
      "execution_count": 49,
      "outputs": [
        {
          "output_type": "execute_result",
          "data": {
            "text/plain": [
              "(tensor([[[-3.1155e-12, -2.3372e-12, -5.7827e-13,  ...,  4.4465e-13,\n",
              "           -1.3918e-12,  3.5288e-13],\n",
              "          [-2.2871e-12,  1.1779e-14, -1.8318e-12,  ..., -5.2464e-13,\n",
              "           -3.3605e-13,  1.6857e-12],\n",
              "          [-1.0040e-12, -2.2081e-12, -2.0692e-12,  ...,  7.3717e-13,\n",
              "            1.1958e-12, -1.3620e-13],\n",
              "          ...,\n",
              "          [ 8.6886e-11,  8.4730e-11,  8.3221e-11,  ...,  7.5830e-12,\n",
              "            6.2510e-12,  4.9120e-12],\n",
              "          [ 7.4321e-11,  7.4737e-11,  7.4329e-11,  ...,  1.1573e-11,\n",
              "            1.0113e-11,  1.1219e-11],\n",
              "          [ 6.3724e-11,  6.5589e-11,  6.3604e-11,  ...,  1.1592e-11,\n",
              "            1.2754e-11,  9.9083e-12]]], dtype=torch.float64), 'bad')"
            ]
          },
          "metadata": {
            "tags": []
          },
          "execution_count": 49
        }
      ]
    }
  ]
}