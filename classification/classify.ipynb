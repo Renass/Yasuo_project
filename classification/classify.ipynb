{
  "nbformat": 4,
  "nbformat_minor": 0,
  "metadata": {
    "colab": {
      "name": "classify.ipynb",
      "provenance": [],
      "toc_visible": true,
      "mount_file_id": "https://github.com/Renass/Yasuo_project/blob/develop/classification/classify.ipynb",
      "authorship_tag": "ABX9TyNoetnC8Z7xi1It9x6pawCn"
    },
    "kernelspec": {
      "name": "python3",
      "display_name": "Python 3"
    },
    "language_info": {
      "name": "python"
    },
    "accelerator": "GPU"
  },
  "cells": [
    {
      "cell_type": "code",
      "metadata": {
        "id": "4xJFWtHKvAOd"
      },
      "source": [
        "import os\n",
        "from google.colab import files\n",
        "import torchvision\n",
        "import glob\n",
        "from torchvision import transforms\n",
        "import numpy as np\n",
        "import torch\n",
        "import torch.optim as optim"
      ],
      "execution_count": 3,
      "outputs": []
    },
    {
      "cell_type": "markdown",
      "metadata": {
        "id": "xvO1-QGRu5Up"
      },
      "source": [
        "#Batch preparing"
      ]
    },
    {
      "cell_type": "code",
      "metadata": {
        "colab": {
          "base_uri": "https://localhost:8080/"
        },
        "id": "9FRrlyXgXK90",
        "outputId": "7f61d3dd-be88-44db-884d-4f132d7e1071"
      },
      "source": [
        "from google.colab import drive\n",
        "drive.mount('/content/drive')"
      ],
      "execution_count": 4,
      "outputs": [
        {
          "output_type": "stream",
          "text": [
            "Drive already mounted at /content/drive; to attempt to forcibly remount, call drive.mount(\"/content/drive\", force_remount=True).\n"
          ],
          "name": "stdout"
        }
      ]
    },
    {
      "cell_type": "code",
      "metadata": {
        "id": "vVyYUm-Ou8sl"
      },
      "source": [
        "path = '/content/drive/MyDrive/Colab_Notebooks/datasets/stm-data'\n",
        "train_bad_dir = path + '/train/bad'\n",
        "train_good_dir = path + '/train/good'\n",
        "test_bad_dir = path + '/test/bad'\n",
        "test_good_dir = path + '/test/good'\n",
        "\n",
        "train_bad_names = glob.glob(train_bad_dir + '/*.npy')\n",
        "train_good_names = glob.glob(train_good_dir + '/*.npy')\n",
        "test_bad_names = glob.glob(test_bad_dir + '/*.npy')\n",
        "test_good_names = glob.glob(test_good_dir + '/*.npy')"
      ],
      "execution_count": 5,
      "outputs": []
    },
    {
      "cell_type": "code",
      "metadata": {
        "id": "x8dgAarXsy4u"
      },
      "source": [
        "class MyDataset(torch.utils.data.Dataset):\n",
        "    def __init__(self, names, y, transform = None):\n",
        "        self.names = names\n",
        "        self.y = y\n",
        "        if transform is None:\n",
        "            self.should_transform = False\n",
        "        else:\n",
        "            self.transform = transform\n",
        "            self.should_transform = True\n",
        "\n",
        "    def __len__(self):\n",
        "        return len(self.names)\n",
        "\n",
        "    def __getitem__(self,idx):\n",
        "        mas = np.load(self.names[idx])\n",
        "        if self.should_transform:\n",
        "            mas_transformed = self.transform(mas)\n",
        "        else:\n",
        "            mas_transformed = mas\n",
        "        return mas_transformed, self.y"
      ],
      "execution_count": 6,
      "outputs": []
    },
    {
      "cell_type": "code",
      "metadata": {
        "id": "92ivC0Ahv_bN"
      },
      "source": [
        "transform = torchvision.transforms.Compose([                                    \n",
        "    transforms.ToTensor(),\n",
        "    transforms.Normalize([0.45],[0.2])                                       \n",
        "    ])\n",
        "\n",
        "\n",
        "#bad: y=0\n",
        "#good: y=1\n",
        "train_bad_dataset = MyDataset(names=train_bad_names, y=0, transform=transform)\n",
        "train_good_dataset = MyDataset(names=train_good_names, y=1, transform=transform)\n",
        "train_dataset = train_bad_dataset + train_good_dataset\n",
        "\n",
        "test_bad_dataset = MyDataset(names=test_bad_names, y=0, transform=transform)\n",
        "test_good_dataset = MyDataset(names=test_good_names, y=1, transform=transform)\n",
        "test_dataset = test_bad_dataset + test_good_dataset"
      ],
      "execution_count": 20,
      "outputs": []
    },
    {
      "cell_type": "code",
      "metadata": {
        "id": "mVOAObTr0sTt"
      },
      "source": [
        "train_loader = torch.utils.data.DataLoader(train_dataset, batch_size=10, shuffle=True)\n",
        "test_loader = torch.utils.data.DataLoader(test_dataset, batch_size=10, shuffle=True)"
      ],
      "execution_count": 21,
      "outputs": []
    },
    {
      "cell_type": "code",
      "metadata": {
        "id": "xfJn2upRpgNz"
      },
      "source": [
        "def train(model, train_loader, epochs, optimizer):\n",
        "    model.train()\n",
        "    loss_epochs = []\n",
        "    for idx in range(epochs):\n",
        "        loss_samples = []\n",
        "        for data,target in train_loader:\n",
        "            print(data)\n",
        "            print(target)\n",
        "            data=data.to(device)\n",
        "            target=target.to(device)\n",
        "            optimizer.zero_grad()   # zero the gradient buffers\n",
        "            output = model.forward(data)\n",
        "            \n",
        "            loss = F.nll_loss(output, target)\n",
        "            loss.backward()\n",
        "            loss_samples.append(loss.data.cpu().numpy())\n",
        "            optimizer.step()    # Does the update\n",
        "\n",
        "        loss_samples_mean = float(sum(loss_samples)) / len (loss_samples)\n",
        "        print(f\"Epoch {idx: >8} Loss: {loss_samples_mean}\")\n",
        "        loss_epochs.append(loss_samples_mean)\n",
        "\n",
        "    plt.plot(loss_epochs)\n",
        "    plt.ylabel('Loss')\n",
        "    plt.xlabel('Epoch')\n",
        "    plt.show() "
      ],
      "execution_count": 22,
      "outputs": []
    },
    {
      "cell_type": "code",
      "metadata": {
        "id": "3P-W6BYOpjwA"
      },
      "source": [
        "def test(model, device, test_loader, show_predict = False):\n",
        "    model.eval()\n",
        "    loss=0\n",
        "    accuracy = 0\n",
        "    correct = 0\n",
        "    total = 0\n",
        "    with torch.no_grad():\n",
        "        for data, target in test_loader:\n",
        "            \n",
        "            if show_predict==True:\n",
        "                plt.imshow(data[0][0])\n",
        "                plt.show()\n",
        "            \n",
        "            data, target = data.to(device), target.to(device)\n",
        "            output = model.forward(data)\n",
        "            loss+= F.nll_loss(output,target)\n",
        "            pred = output.argmax(dim=1, keepdim=True)\n",
        "            \n",
        "            if show_predict==True:\n",
        "                print('prediction: '+str(pred.data[0][0].item())+'\\n\\n\\n')\n",
        "            \n",
        "            target = target.view_as(pred)\n",
        "            for i,single_pred in enumerate(pred):\n",
        "                if single_pred == target[i]:\n",
        "                    correct+= 1\n",
        "            total += len(pred)\n",
        "    loss = loss/len(test_loader)\n",
        "    accuracy = correct / total\n",
        "    \n",
        "    print('Loss: ',loss.data.item())\n",
        "    print('\\n Accuracy: {}/{} ({:.0f}%)\\n'.format(\n",
        "        correct, total, 100. * accuracy))"
      ],
      "execution_count": 23,
      "outputs": []
    },
    {
      "cell_type": "code",
      "metadata": {
        "id": "6FxRKlLGo3H0"
      },
      "source": [
        "no_cuda = False\n",
        "use_cuda = not no_cuda and torch.cuda.is_available()\n",
        "device = torch.device(\"cuda\" if use_cuda else \"cpu\")\n",
        "\n",
        "model = torchvision.models.resnet18(,pretrained = False).to(device)"
      ],
      "execution_count": 24,
      "outputs": []
    },
    {
      "cell_type": "code",
      "metadata": {
        "id": "9U0j-nmBqBIA",
        "outputId": "4a3fac4d-42c4-4cb5-f448-f6fd663b5c28",
        "colab": {
          "base_uri": "https://localhost:8080/",
          "height": 1000
        }
      },
      "source": [
        "#Main loop train epochs_train times and test once and\n",
        "#repeat it train_cycles times\n",
        "train_cycles=3\n",
        "epochs_train=10\n",
        "lr=0.001\n",
        "#Main loop\n",
        "for i in range(train_cycles):\n",
        "    train(model=model, train_loader=train_loader, epochs=epochs_train, optimizer=optim.Adam(model.parameters(), lr=lr))\n",
        "    test(model=model,device=device,test_loader=test_loader)"
      ],
      "execution_count": 25,
      "outputs": [
        {
          "output_type": "stream",
          "text": [
            "tensor([[[[-2.2500, -2.2500, -2.2500,  ..., -2.2500, -2.2500, -2.2500],\n",
            "          [-2.2500, -2.2500, -2.2500,  ..., -2.2500, -2.2500, -2.2500],\n",
            "          [-2.2500, -2.2500, -2.2500,  ..., -2.2500, -2.2500, -2.2500],\n",
            "          ...,\n",
            "          [-2.2500, -2.2500, -2.2500,  ..., -2.2500, -2.2500, -2.2500],\n",
            "          [-2.2500, -2.2500, -2.2500,  ..., -2.2500, -2.2500, -2.2500],\n",
            "          [-2.2500, -2.2500, -2.2500,  ..., -2.2500, -2.2500, -2.2500]]],\n",
            "\n",
            "\n",
            "        [[[-2.2500, -2.2500, -2.2500,  ..., -2.2500, -2.2500, -2.2500],\n",
            "          [-2.2500, -2.2500, -2.2500,  ..., -2.2500, -2.2500, -2.2500],\n",
            "          [-2.2500, -2.2500, -2.2500,  ..., -2.2500, -2.2500, -2.2500],\n",
            "          ...,\n",
            "          [-2.2500, -2.2500, -2.2500,  ..., -2.2500, -2.2500, -2.2500],\n",
            "          [-2.2500, -2.2500, -2.2500,  ..., -2.2500, -2.2500, -2.2500],\n",
            "          [-2.2500, -2.2500, -2.2500,  ..., -2.2500, -2.2500, -2.2500]]],\n",
            "\n",
            "\n",
            "        [[[-2.2500, -2.2500, -2.2500,  ..., -2.2500, -2.2500, -2.2500],\n",
            "          [-2.2500, -2.2500, -2.2500,  ..., -2.2500, -2.2500, -2.2500],\n",
            "          [-2.2500, -2.2500, -2.2500,  ..., -2.2500, -2.2500, -2.2500],\n",
            "          ...,\n",
            "          [-2.2500, -2.2500, -2.2500,  ..., -2.2500, -2.2500, -2.2500],\n",
            "          [-2.2500, -2.2500, -2.2500,  ..., -2.2500, -2.2500, -2.2500],\n",
            "          [-2.2500, -2.2500, -2.2500,  ..., -2.2500, -2.2500, -2.2500]]],\n",
            "\n",
            "\n",
            "        ...,\n",
            "\n",
            "\n",
            "        [[[-2.2500, -2.2500, -2.2500,  ..., -2.2500, -2.2500, -2.2500],\n",
            "          [-2.2500, -2.2500, -2.2500,  ..., -2.2500, -2.2500, -2.2500],\n",
            "          [-2.2500, -2.2500, -2.2500,  ..., -2.2500, -2.2500, -2.2500],\n",
            "          ...,\n",
            "          [-2.2500, -2.2500, -2.2500,  ..., -2.2500, -2.2500, -2.2500],\n",
            "          [-2.2500, -2.2500, -2.2500,  ..., -2.2500, -2.2500, -2.2500],\n",
            "          [-2.2500, -2.2500, -2.2500,  ..., -2.2500, -2.2500, -2.2500]]],\n",
            "\n",
            "\n",
            "        [[[-2.2500, -2.2500, -2.2500,  ..., -2.2500, -2.2500, -2.2500],\n",
            "          [-2.2500, -2.2500, -2.2500,  ..., -2.2500, -2.2500, -2.2500],\n",
            "          [-2.2500, -2.2500, -2.2500,  ..., -2.2500, -2.2500, -2.2500],\n",
            "          ...,\n",
            "          [-2.2500, -2.2500, -2.2500,  ..., -2.2500, -2.2500, -2.2500],\n",
            "          [-2.2500, -2.2500, -2.2500,  ..., -2.2500, -2.2500, -2.2500],\n",
            "          [-2.2500, -2.2500, -2.2500,  ..., -2.2500, -2.2500, -2.2500]]],\n",
            "\n",
            "\n",
            "        [[[-2.2500, -2.2500, -2.2500,  ..., -2.2500, -2.2500, -2.2500],\n",
            "          [-2.2500, -2.2500, -2.2500,  ..., -2.2500, -2.2500, -2.2500],\n",
            "          [-2.2500, -2.2500, -2.2500,  ..., -2.2500, -2.2500, -2.2500],\n",
            "          ...,\n",
            "          [-2.2500, -2.2500, -2.2500,  ..., -2.2500, -2.2500, -2.2500],\n",
            "          [-2.2500, -2.2500, -2.2500,  ..., -2.2500, -2.2500, -2.2500],\n",
            "          [-2.2500, -2.2500, -2.2500,  ..., -2.2500, -2.2500, -2.2500]]]],\n",
            "       dtype=torch.float64)\n",
            "tensor([1, 0, 1, 1, 1, 0, 0, 0, 0, 0])\n"
          ],
          "name": "stdout"
        },
        {
          "output_type": "error",
          "ename": "RuntimeError",
          "evalue": "ignored",
          "traceback": [
            "\u001b[0;31m---------------------------------------------------------------------------\u001b[0m",
            "\u001b[0;31mRuntimeError\u001b[0m                              Traceback (most recent call last)",
            "\u001b[0;32m<ipython-input-25-e77494df8228>\u001b[0m in \u001b[0;36m<module>\u001b[0;34m()\u001b[0m\n\u001b[1;32m      6\u001b[0m \u001b[0;31m#Main loop\u001b[0m\u001b[0;34m\u001b[0m\u001b[0;34m\u001b[0m\u001b[0;34m\u001b[0m\u001b[0m\n\u001b[1;32m      7\u001b[0m \u001b[0;32mfor\u001b[0m \u001b[0mi\u001b[0m \u001b[0;32min\u001b[0m \u001b[0mrange\u001b[0m\u001b[0;34m(\u001b[0m\u001b[0mtrain_cycles\u001b[0m\u001b[0;34m)\u001b[0m\u001b[0;34m:\u001b[0m\u001b[0;34m\u001b[0m\u001b[0;34m\u001b[0m\u001b[0m\n\u001b[0;32m----> 8\u001b[0;31m     \u001b[0mtrain\u001b[0m\u001b[0;34m(\u001b[0m\u001b[0mmodel\u001b[0m\u001b[0;34m=\u001b[0m\u001b[0mmodel\u001b[0m\u001b[0;34m,\u001b[0m \u001b[0mtrain_loader\u001b[0m\u001b[0;34m=\u001b[0m\u001b[0mtrain_loader\u001b[0m\u001b[0;34m,\u001b[0m \u001b[0mepochs\u001b[0m\u001b[0;34m=\u001b[0m\u001b[0mepochs_train\u001b[0m\u001b[0;34m,\u001b[0m \u001b[0moptimizer\u001b[0m\u001b[0;34m=\u001b[0m\u001b[0moptim\u001b[0m\u001b[0;34m.\u001b[0m\u001b[0mAdam\u001b[0m\u001b[0;34m(\u001b[0m\u001b[0mmodel\u001b[0m\u001b[0;34m.\u001b[0m\u001b[0mparameters\u001b[0m\u001b[0;34m(\u001b[0m\u001b[0;34m)\u001b[0m\u001b[0;34m,\u001b[0m \u001b[0mlr\u001b[0m\u001b[0;34m=\u001b[0m\u001b[0mlr\u001b[0m\u001b[0;34m)\u001b[0m\u001b[0;34m)\u001b[0m\u001b[0;34m\u001b[0m\u001b[0;34m\u001b[0m\u001b[0m\n\u001b[0m\u001b[1;32m      9\u001b[0m     \u001b[0mtest\u001b[0m\u001b[0;34m(\u001b[0m\u001b[0mmodel\u001b[0m\u001b[0;34m=\u001b[0m\u001b[0mmodel\u001b[0m\u001b[0;34m,\u001b[0m\u001b[0mdevice\u001b[0m\u001b[0;34m=\u001b[0m\u001b[0mdevice\u001b[0m\u001b[0;34m,\u001b[0m\u001b[0mtest_loader\u001b[0m\u001b[0;34m=\u001b[0m\u001b[0mtest_loader\u001b[0m\u001b[0;34m)\u001b[0m\u001b[0;34m\u001b[0m\u001b[0;34m\u001b[0m\u001b[0m\n",
            "\u001b[0;32m<ipython-input-22-1135f59b5b37>\u001b[0m in \u001b[0;36mtrain\u001b[0;34m(model, train_loader, epochs, optimizer)\u001b[0m\n\u001b[1;32m     10\u001b[0m             \u001b[0mtarget\u001b[0m\u001b[0;34m=\u001b[0m\u001b[0mtarget\u001b[0m\u001b[0;34m.\u001b[0m\u001b[0mto\u001b[0m\u001b[0;34m(\u001b[0m\u001b[0mdevice\u001b[0m\u001b[0;34m)\u001b[0m\u001b[0;34m\u001b[0m\u001b[0;34m\u001b[0m\u001b[0m\n\u001b[1;32m     11\u001b[0m             \u001b[0moptimizer\u001b[0m\u001b[0;34m.\u001b[0m\u001b[0mzero_grad\u001b[0m\u001b[0;34m(\u001b[0m\u001b[0;34m)\u001b[0m   \u001b[0;31m# zero the gradient buffers\u001b[0m\u001b[0;34m\u001b[0m\u001b[0;34m\u001b[0m\u001b[0m\n\u001b[0;32m---> 12\u001b[0;31m             \u001b[0moutput\u001b[0m \u001b[0;34m=\u001b[0m \u001b[0mmodel\u001b[0m\u001b[0;34m.\u001b[0m\u001b[0mforward\u001b[0m\u001b[0;34m(\u001b[0m\u001b[0mdata\u001b[0m\u001b[0;34m)\u001b[0m\u001b[0;34m\u001b[0m\u001b[0;34m\u001b[0m\u001b[0m\n\u001b[0m\u001b[1;32m     13\u001b[0m \u001b[0;34m\u001b[0m\u001b[0m\n\u001b[1;32m     14\u001b[0m             \u001b[0mloss\u001b[0m \u001b[0;34m=\u001b[0m \u001b[0mF\u001b[0m\u001b[0;34m.\u001b[0m\u001b[0mnll_loss\u001b[0m\u001b[0;34m(\u001b[0m\u001b[0moutput\u001b[0m\u001b[0;34m,\u001b[0m \u001b[0mtarget\u001b[0m\u001b[0;34m)\u001b[0m\u001b[0;34m\u001b[0m\u001b[0;34m\u001b[0m\u001b[0m\n",
            "\u001b[0;32m/usr/local/lib/python3.7/dist-packages/torchvision/models/resnet.py\u001b[0m in \u001b[0;36mforward\u001b[0;34m(self, x)\u001b[0m\n\u001b[1;32m    247\u001b[0m \u001b[0;34m\u001b[0m\u001b[0m\n\u001b[1;32m    248\u001b[0m     \u001b[0;32mdef\u001b[0m \u001b[0mforward\u001b[0m\u001b[0;34m(\u001b[0m\u001b[0mself\u001b[0m\u001b[0;34m,\u001b[0m \u001b[0mx\u001b[0m\u001b[0;34m:\u001b[0m \u001b[0mTensor\u001b[0m\u001b[0;34m)\u001b[0m \u001b[0;34m->\u001b[0m \u001b[0mTensor\u001b[0m\u001b[0;34m:\u001b[0m\u001b[0;34m\u001b[0m\u001b[0;34m\u001b[0m\u001b[0m\n\u001b[0;32m--> 249\u001b[0;31m         \u001b[0;32mreturn\u001b[0m \u001b[0mself\u001b[0m\u001b[0;34m.\u001b[0m\u001b[0m_forward_impl\u001b[0m\u001b[0;34m(\u001b[0m\u001b[0mx\u001b[0m\u001b[0;34m)\u001b[0m\u001b[0;34m\u001b[0m\u001b[0;34m\u001b[0m\u001b[0m\n\u001b[0m\u001b[1;32m    250\u001b[0m \u001b[0;34m\u001b[0m\u001b[0m\n\u001b[1;32m    251\u001b[0m \u001b[0;34m\u001b[0m\u001b[0m\n",
            "\u001b[0;32m/usr/local/lib/python3.7/dist-packages/torchvision/models/resnet.py\u001b[0m in \u001b[0;36m_forward_impl\u001b[0;34m(self, x)\u001b[0m\n\u001b[1;32m    230\u001b[0m     \u001b[0;32mdef\u001b[0m \u001b[0m_forward_impl\u001b[0m\u001b[0;34m(\u001b[0m\u001b[0mself\u001b[0m\u001b[0;34m,\u001b[0m \u001b[0mx\u001b[0m\u001b[0;34m:\u001b[0m \u001b[0mTensor\u001b[0m\u001b[0;34m)\u001b[0m \u001b[0;34m->\u001b[0m \u001b[0mTensor\u001b[0m\u001b[0;34m:\u001b[0m\u001b[0;34m\u001b[0m\u001b[0;34m\u001b[0m\u001b[0m\n\u001b[1;32m    231\u001b[0m         \u001b[0;31m# See note [TorchScript super()]\u001b[0m\u001b[0;34m\u001b[0m\u001b[0;34m\u001b[0m\u001b[0;34m\u001b[0m\u001b[0m\n\u001b[0;32m--> 232\u001b[0;31m         \u001b[0mx\u001b[0m \u001b[0;34m=\u001b[0m \u001b[0mself\u001b[0m\u001b[0;34m.\u001b[0m\u001b[0mconv1\u001b[0m\u001b[0;34m(\u001b[0m\u001b[0mx\u001b[0m\u001b[0;34m)\u001b[0m\u001b[0;34m\u001b[0m\u001b[0;34m\u001b[0m\u001b[0m\n\u001b[0m\u001b[1;32m    233\u001b[0m         \u001b[0mx\u001b[0m \u001b[0;34m=\u001b[0m \u001b[0mself\u001b[0m\u001b[0;34m.\u001b[0m\u001b[0mbn1\u001b[0m\u001b[0;34m(\u001b[0m\u001b[0mx\u001b[0m\u001b[0;34m)\u001b[0m\u001b[0;34m\u001b[0m\u001b[0;34m\u001b[0m\u001b[0m\n\u001b[1;32m    234\u001b[0m         \u001b[0mx\u001b[0m \u001b[0;34m=\u001b[0m \u001b[0mself\u001b[0m\u001b[0;34m.\u001b[0m\u001b[0mrelu\u001b[0m\u001b[0;34m(\u001b[0m\u001b[0mx\u001b[0m\u001b[0;34m)\u001b[0m\u001b[0;34m\u001b[0m\u001b[0;34m\u001b[0m\u001b[0m\n",
            "\u001b[0;32m/usr/local/lib/python3.7/dist-packages/torch/nn/modules/module.py\u001b[0m in \u001b[0;36m_call_impl\u001b[0;34m(self, *input, **kwargs)\u001b[0m\n\u001b[1;32m    887\u001b[0m             \u001b[0mresult\u001b[0m \u001b[0;34m=\u001b[0m \u001b[0mself\u001b[0m\u001b[0;34m.\u001b[0m\u001b[0m_slow_forward\u001b[0m\u001b[0;34m(\u001b[0m\u001b[0;34m*\u001b[0m\u001b[0minput\u001b[0m\u001b[0;34m,\u001b[0m \u001b[0;34m**\u001b[0m\u001b[0mkwargs\u001b[0m\u001b[0;34m)\u001b[0m\u001b[0;34m\u001b[0m\u001b[0;34m\u001b[0m\u001b[0m\n\u001b[1;32m    888\u001b[0m         \u001b[0;32melse\u001b[0m\u001b[0;34m:\u001b[0m\u001b[0;34m\u001b[0m\u001b[0;34m\u001b[0m\u001b[0m\n\u001b[0;32m--> 889\u001b[0;31m             \u001b[0mresult\u001b[0m \u001b[0;34m=\u001b[0m \u001b[0mself\u001b[0m\u001b[0;34m.\u001b[0m\u001b[0mforward\u001b[0m\u001b[0;34m(\u001b[0m\u001b[0;34m*\u001b[0m\u001b[0minput\u001b[0m\u001b[0;34m,\u001b[0m \u001b[0;34m**\u001b[0m\u001b[0mkwargs\u001b[0m\u001b[0;34m)\u001b[0m\u001b[0;34m\u001b[0m\u001b[0;34m\u001b[0m\u001b[0m\n\u001b[0m\u001b[1;32m    890\u001b[0m         for hook in itertools.chain(\n\u001b[1;32m    891\u001b[0m                 \u001b[0m_global_forward_hooks\u001b[0m\u001b[0;34m.\u001b[0m\u001b[0mvalues\u001b[0m\u001b[0;34m(\u001b[0m\u001b[0;34m)\u001b[0m\u001b[0;34m,\u001b[0m\u001b[0;34m\u001b[0m\u001b[0;34m\u001b[0m\u001b[0m\n",
            "\u001b[0;32m/usr/local/lib/python3.7/dist-packages/torch/nn/modules/conv.py\u001b[0m in \u001b[0;36mforward\u001b[0;34m(self, input)\u001b[0m\n\u001b[1;32m    397\u001b[0m \u001b[0;34m\u001b[0m\u001b[0m\n\u001b[1;32m    398\u001b[0m     \u001b[0;32mdef\u001b[0m \u001b[0mforward\u001b[0m\u001b[0;34m(\u001b[0m\u001b[0mself\u001b[0m\u001b[0;34m,\u001b[0m \u001b[0minput\u001b[0m\u001b[0;34m:\u001b[0m \u001b[0mTensor\u001b[0m\u001b[0;34m)\u001b[0m \u001b[0;34m->\u001b[0m \u001b[0mTensor\u001b[0m\u001b[0;34m:\u001b[0m\u001b[0;34m\u001b[0m\u001b[0;34m\u001b[0m\u001b[0m\n\u001b[0;32m--> 399\u001b[0;31m         \u001b[0;32mreturn\u001b[0m \u001b[0mself\u001b[0m\u001b[0;34m.\u001b[0m\u001b[0m_conv_forward\u001b[0m\u001b[0;34m(\u001b[0m\u001b[0minput\u001b[0m\u001b[0;34m,\u001b[0m \u001b[0mself\u001b[0m\u001b[0;34m.\u001b[0m\u001b[0mweight\u001b[0m\u001b[0;34m,\u001b[0m \u001b[0mself\u001b[0m\u001b[0;34m.\u001b[0m\u001b[0mbias\u001b[0m\u001b[0;34m)\u001b[0m\u001b[0;34m\u001b[0m\u001b[0;34m\u001b[0m\u001b[0m\n\u001b[0m\u001b[1;32m    400\u001b[0m \u001b[0;34m\u001b[0m\u001b[0m\n\u001b[1;32m    401\u001b[0m \u001b[0;32mclass\u001b[0m \u001b[0mConv3d\u001b[0m\u001b[0;34m(\u001b[0m\u001b[0m_ConvNd\u001b[0m\u001b[0;34m)\u001b[0m\u001b[0;34m:\u001b[0m\u001b[0;34m\u001b[0m\u001b[0;34m\u001b[0m\u001b[0m\n",
            "\u001b[0;32m/usr/local/lib/python3.7/dist-packages/torch/nn/modules/conv.py\u001b[0m in \u001b[0;36m_conv_forward\u001b[0;34m(self, input, weight, bias)\u001b[0m\n\u001b[1;32m    394\u001b[0m                             _pair(0), self.dilation, self.groups)\n\u001b[1;32m    395\u001b[0m         return F.conv2d(input, weight, bias, self.stride,\n\u001b[0;32m--> 396\u001b[0;31m                         self.padding, self.dilation, self.groups)\n\u001b[0m\u001b[1;32m    397\u001b[0m \u001b[0;34m\u001b[0m\u001b[0m\n\u001b[1;32m    398\u001b[0m     \u001b[0;32mdef\u001b[0m \u001b[0mforward\u001b[0m\u001b[0;34m(\u001b[0m\u001b[0mself\u001b[0m\u001b[0;34m,\u001b[0m \u001b[0minput\u001b[0m\u001b[0;34m:\u001b[0m \u001b[0mTensor\u001b[0m\u001b[0;34m)\u001b[0m \u001b[0;34m->\u001b[0m \u001b[0mTensor\u001b[0m\u001b[0;34m:\u001b[0m\u001b[0;34m\u001b[0m\u001b[0;34m\u001b[0m\u001b[0m\n",
            "\u001b[0;31mRuntimeError\u001b[0m: Given groups=1, weight of size [64, 3, 7, 7], expected input[10, 1, 64, 64] to have 3 channels, but got 1 channels instead"
          ]
        }
      ]
    }
  ]
}