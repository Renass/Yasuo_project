{
  "nbformat": 4,
  "nbformat_minor": 0,
  "metadata": {
    "colab": {
      "name": "preprocessing.ipynb",
      "provenance": [],
      "authorship_tag": "ABX9TyNpLhzT1wY8AeZ+yNRzAhJb",
      "include_colab_link": true
    },
    "kernelspec": {
      "name": "python3",
      "display_name": "Python 3"
    },
    "language_info": {
      "name": "python"
    }
  },
  "cells": [
    {
      "cell_type": "markdown",
      "metadata": {
        "id": "view-in-github",
        "colab_type": "text"
      },
      "source": [
        "<a href=\"https://colab.research.google.com/github/Renass/Yasuo_project/blob/transfer_res_net/classification/preprocessing.ipynb\" target=\"_parent\"><img src=\"https://colab.research.google.com/assets/colab-badge.svg\" alt=\"Open In Colab\"/></a>"
      ]
    },
    {
      "cell_type": "code",
      "metadata": {
        "id": "McpptaBjSd--"
      },
      "source": [
        "import os\n",
        "from google.colab import files\n",
        "import torchvision\n",
        "import glob\n",
        "from torchvision import transforms\n",
        "import numpy as np\n",
        "import torch\n",
        "import torch.nn.functional as F\n",
        "import torch.nn as nn\n",
        "import torch.optim as optim\n",
        "import matplotlib\n",
        "from matplotlib import pyplot as plt\n",
        "import zipfile\n",
        "from tqdm import tqdm\n",
        "from PIL import Image\n",
        "import cv2\n",
        "import random\n",
        "import glob\n",
        "import cv2\n",
        "import numpy as np\n",
        "import torch\n",
        "import matplotlib.pyplot as plt\n",
        "from PIL import Image"
      ],
      "execution_count": 11,
      "outputs": []
    },
    {
      "cell_type": "code",
      "metadata": {
        "colab": {
          "base_uri": "https://localhost:8080/"
        },
        "id": "1qFrZqlVSmay",
        "outputId": "e3dab4bd-152f-4fc7-d56e-c80b99db7112"
      },
      "source": [
        "from google.colab import drive\n",
        "drive.mount('/content/drive')\n",
        "\n",
        "\n",
        "zip_path = '/content/drive/MyDrive/Colab_Notebooks/datasets/stm-data/stm-data.zip'\n",
        "z = zipfile.ZipFile(zip_path, 'r')\n",
        "z.extractall()\n",
        "print(os.listdir())"
      ],
      "execution_count": null,
      "outputs": [
        {
          "output_type": "stream",
          "text": [
            "Drive already mounted at /content/drive; to attempt to forcibly remount, call drive.mount(\"/content/drive\", force_remount=True).\n",
            "['.config', 'drive', 'stm-data', 'sample_data']\n"
          ],
          "name": "stdout"
        }
      ]
    },
    {
      "cell_type": "code",
      "metadata": {
        "id": "oVVjVJUpLrS-",
        "colab": {
          "base_uri": "https://localhost:8080/",
          "height": 267
        },
        "outputId": "36471fe2-fe2b-4063-cd78-685340819172"
      },
      "source": [
        "path = '/content/stm-data/JointDataset'\n",
        "path2 = '/content/stm-data_image'\n",
        "\n",
        "train_bad_dir = path + '/Train/bad'\n",
        "train_good_dir = path + '/Train/good'\n",
        "test_bad_dir = path + '/Test/bad'\n",
        "test_good_dir = path + '/Test/good'\n",
        "\n",
        "train_bad_dir2 = path2 + '/Train/bad'\n",
        "train_good_dir2 = path2 + '/Train/good'\n",
        "test_bad_dir2 = path2 + '/Test/bad'\n",
        "test_good_dir2 = path2 + '/Test/good'\n",
        "\n",
        "train_bad_names = glob.glob(train_bad_dir + '/*.npy')\n",
        "train_good_names = glob.glob(train_good_dir + '/*.npy')\n",
        "test_bad_names = glob.glob(test_bad_dir + '/*.npy')\n",
        "test_good_names = glob.glob(test_good_dir + '/*.npy')\n",
        "\n",
        "names = [train_bad_names, train_good_names, test_bad_names, test_good_names]\n",
        "names2 = [train_bad_dir2, train_good_dir2, test_bad_dir2, test_good_dir2]\n",
        "\n",
        "\n",
        "for i,set in enumerate(names):\n",
        "    for j,img in enumerate(set):\n",
        "        name = img\n",
        "        img = np.load(img)\n",
        "        img = torch.from_numpy(img)\n",
        "        img = 255*(img - img.min())/(img.max()-img.min())\n",
        "        img = img.numpy()\n",
        "        img = cv2.cvtColor(img.astype(np.uint8), cv2.COLOR_GRAY2RGB)\n",
        "        plt.imshow(img)\n",
        "        cv2.imwrite(names2[i]+'/'+str(j)+'.jpg', img)"
      ],
      "execution_count": 17,
      "outputs": [
        {
          "output_type": "display_data",
          "data": {
            "image/png": "[encoded data removed]",
            "text/plain": [
              "<Figure size 432x288 with 1 Axes>"
            ]
          },
          "metadata": {
            "tags": [],
            "needs_background": "light"
          }
        }
      ]
    },
    {
      "cell_type": "code",
      "metadata": {
        "colab": {
          "base_uri": "https://localhost:8080/",
          "height": 35
        },
        "id": "E4eQonjYZmKl",
        "outputId": "77312d6f-9c4f-4764-a449-4357314fb050"
      },
      "source": [
        "import shutil\n",
        "zip_path = '/content/stm-data_image'\n",
        "shutil.make_archive('1', 'zip', zip_path)"
      ],
      "execution_count": 23,
      "outputs": [
        {
          "output_type": "execute_result",
          "data": {
            "application/vnd.google.colaboratory.intrinsic+json": {
              "type": "string"
            },
            "text/plain": [
              "'/content/1.zip'"
            ]
          },
          "metadata": {
            "tags": []
          },
          "execution_count": 23
        }
      ]
    }
  ]
}